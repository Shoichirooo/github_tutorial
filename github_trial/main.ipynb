{
 "cells": [
  {
   "cell_type": "code",
   "execution_count": 10,
   "metadata": {},
   "outputs": [
    {
     "name": "stdout",
     "output_type": "stream",
     "text": [
      "私はaaaaといいます。aaaaに興味があります。\n",
      "好きな食べ物はパイナップルです。\n"
     ]
    }
   ],
   "source": [
    "def self_introduction(name, interest,favorite_food):\n",
    "    print(f'私は{name}といいます。{interest}に興味があります。')\n",
    "    print(f'好きな食べ物は{favorite_food}です。')\n",
    "self_introduction('aaaa','aaaa','パイナップル')\n"
   ]
  }
 ],
 "metadata": {
  "kernelspec": {
   "display_name": "Python 3",
   "language": "python",
   "name": "python3"
  },
  "language_info": {
   "codemirror_mode": {
    "name": "ipython",
    "version": 3
   },
   "file_extension": ".py",
   "mimetype": "text/x-python",
   "name": "python",
   "nbconvert_exporter": "python",
   "pygments_lexer": "ipython3",
   "version": "3.12.2"
  }
 },
 "nbformat": 4,
 "nbformat_minor": 2
}
